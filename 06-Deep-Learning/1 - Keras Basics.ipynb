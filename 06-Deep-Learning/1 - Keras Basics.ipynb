{
 "cells": [
  {
   "cell_type": "code",
   "execution_count": 7,
   "metadata": {},
   "outputs": [],
   "source": [
    "import numpy as np"
   ]
  },
  {
   "cell_type": "code",
   "execution_count": 8,
   "metadata": {},
   "outputs": [],
   "source": [
    "from sklearn.datasets import load_iris"
   ]
  },
  {
   "cell_type": "code",
   "execution_count": 9,
   "metadata": {},
   "outputs": [],
   "source": [
    "iris = load_iris()"
   ]
  },
  {
   "cell_type": "code",
   "execution_count": 10,
   "metadata": {},
   "outputs": [
    {
     "data": {
      "text/plain": [
       "sklearn.utils.Bunch"
      ]
     },
     "execution_count": 10,
     "metadata": {},
     "output_type": "execute_result"
    }
   ],
   "source": [
    "type(iris)"
   ]
  },
  {
   "cell_type": "code",
   "execution_count": 12,
   "metadata": {},
   "outputs": [],
   "source": [
    "X = iris.data"
   ]
  },
  {
   "cell_type": "code",
   "execution_count": 13,
   "metadata": {},
   "outputs": [],
   "source": [
    "y = iris.target"
   ]
  },
  {
   "cell_type": "code",
   "execution_count": 15,
   "metadata": {},
   "outputs": [],
   "source": [
    "from keras.utils import to_categorical"
   ]
  },
  {
   "cell_type": "code",
   "execution_count": 16,
   "metadata": {},
   "outputs": [],
   "source": [
    "y = to_categorical(y)"
   ]
  },
  {
   "cell_type": "code",
   "execution_count": 18,
   "metadata": {},
   "outputs": [],
   "source": [
    "from sklearn.model_selection import train_test_split"
   ]
  },
  {
   "cell_type": "code",
   "execution_count": 22,
   "metadata": {},
   "outputs": [],
   "source": [
    "X_train, X_test, y_train, y_test = train_test_split(X, y, test_size=0.3, random_state=42)"
   ]
  },
  {
   "cell_type": "code",
   "execution_count": 24,
   "metadata": {},
   "outputs": [],
   "source": [
    "from sklearn.preprocessing import MinMaxScaler"
   ]
  },
  {
   "cell_type": "code",
   "execution_count": 25,
   "metadata": {},
   "outputs": [],
   "source": [
    "scaler_object = MinMaxScaler()"
   ]
  },
  {
   "cell_type": "code",
   "execution_count": 27,
   "metadata": {},
   "outputs": [
    {
     "data": {
      "text/plain": [
       "MinMaxScaler(copy=True, feature_range=(0, 1))"
      ]
     },
     "execution_count": 27,
     "metadata": {},
     "output_type": "execute_result"
    }
   ],
   "source": [
    "scaler_object.fit(X_train)"
   ]
  },
  {
   "cell_type": "code",
   "execution_count": 30,
   "metadata": {},
   "outputs": [],
   "source": [
    "scaled_X_train = scaler_object.transform(X_train)"
   ]
  },
  {
   "cell_type": "code",
   "execution_count": 47,
   "metadata": {},
   "outputs": [],
   "source": [
    "scaled_X_test = scaler_object.transform(X_test)"
   ]
  },
  {
   "cell_type": "code",
   "execution_count": 34,
   "metadata": {},
   "outputs": [],
   "source": [
    "from keras.models import Sequential\n",
    "from keras.layers import Dense"
   ]
  },
  {
   "cell_type": "code",
   "execution_count": 39,
   "metadata": {},
   "outputs": [],
   "source": [
    "model = Sequential()"
   ]
  },
  {
   "cell_type": "code",
   "execution_count": 40,
   "metadata": {},
   "outputs": [],
   "source": [
    "model.add(Dense(units=8, activation='relu', input_dim=4))\n",
    "model.add(Dense(units=8, activation='relu'))\n",
    "model.add(Dense(units=3, activation='softmax'))\n",
    "model.compile(loss='categorical_crossentropy', optimizer='adam', metrics=['accuracy'])"
   ]
  },
  {
   "cell_type": "code",
   "execution_count": 41,
   "metadata": {},
   "outputs": [
    {
     "name": "stdout",
     "output_type": "stream",
     "text": [
      "_________________________________________________________________\n",
      "Layer (type)                 Output Shape              Param #   \n",
      "=================================================================\n",
      "dense_7 (Dense)              (None, 8)                 40        \n",
      "_________________________________________________________________\n",
      "dense_8 (Dense)              (None, 8)                 72        \n",
      "_________________________________________________________________\n",
      "dense_9 (Dense)              (None, 3)                 27        \n",
      "=================================================================\n",
      "Total params: 139\n",
      "Trainable params: 139\n",
      "Non-trainable params: 0\n",
      "_________________________________________________________________\n"
     ]
    }
   ],
   "source": [
    "model.summary()"
   ]
  },
  {
   "cell_type": "code",
   "execution_count": 42,
   "metadata": {},
   "outputs": [
    {
     "name": "stdout",
     "output_type": "stream",
     "text": [
      "WARNING:tensorflow:From /Users/gustavo/opt/anaconda3/envs/nlp_course/lib/python3.7/site-packages/tensorflow/python/ops/math_ops.py:3066: to_int32 (from tensorflow.python.ops.math_ops) is deprecated and will be removed in a future version.\n",
      "Instructions for updating:\n",
      "Use tf.cast instead.\n",
      "Epoch 1/150\n",
      " - 1s - loss: 1.0668 - acc: 0.4381\n",
      "Epoch 2/150\n",
      " - 0s - loss: 1.0560 - acc: 0.3048\n",
      "Epoch 3/150\n",
      " - 0s - loss: 1.0451 - acc: 0.3905\n",
      "Epoch 4/150\n",
      " - 0s - loss: 1.0344 - acc: 0.4000\n",
      "Epoch 5/150\n",
      " - 0s - loss: 1.0243 - acc: 0.4476\n",
      "Epoch 6/150\n",
      " - 0s - loss: 1.0148 - acc: 0.4952\n",
      "Epoch 7/150\n",
      " - 0s - loss: 1.0056 - acc: 0.5048\n",
      "Epoch 8/150\n",
      " - 0s - loss: 0.9967 - acc: 0.5143\n",
      "Epoch 9/150\n",
      " - 0s - loss: 0.9877 - acc: 0.5238\n",
      "Epoch 10/150\n",
      " - 0s - loss: 0.9790 - acc: 0.5524\n",
      "Epoch 11/150\n",
      " - 0s - loss: 0.9704 - acc: 0.6190\n",
      "Epoch 12/150\n",
      " - 0s - loss: 0.9625 - acc: 0.6286\n",
      "Epoch 13/150\n",
      " - 0s - loss: 0.9546 - acc: 0.6286\n",
      "Epoch 14/150\n",
      " - 0s - loss: 0.9462 - acc: 0.6286\n",
      "Epoch 15/150\n",
      " - 0s - loss: 0.9383 - acc: 0.6286\n",
      "Epoch 16/150\n",
      " - 0s - loss: 0.9300 - acc: 0.6286\n",
      "Epoch 17/150\n",
      " - 0s - loss: 0.9215 - acc: 0.6286\n",
      "Epoch 18/150\n",
      " - 0s - loss: 0.9134 - acc: 0.6286\n",
      "Epoch 19/150\n",
      " - 0s - loss: 0.9050 - acc: 0.6286\n",
      "Epoch 20/150\n",
      " - 0s - loss: 0.8967 - acc: 0.6381\n",
      "Epoch 21/150\n",
      " - 0s - loss: 0.8883 - acc: 0.6381\n",
      "Epoch 22/150\n",
      " - 0s - loss: 0.8799 - acc: 0.6381\n",
      "Epoch 23/150\n",
      " - 0s - loss: 0.8709 - acc: 0.6381\n",
      "Epoch 24/150\n",
      " - 0s - loss: 0.8620 - acc: 0.6381\n",
      "Epoch 25/150\n",
      " - 0s - loss: 0.8533 - acc: 0.6381\n",
      "Epoch 26/150\n",
      " - 0s - loss: 0.8438 - acc: 0.6381\n",
      "Epoch 27/150\n",
      " - 0s - loss: 0.8348 - acc: 0.6381\n",
      "Epoch 28/150\n",
      " - 0s - loss: 0.8259 - acc: 0.6381\n",
      "Epoch 29/150\n",
      " - 0s - loss: 0.8173 - acc: 0.6381\n",
      "Epoch 30/150\n",
      " - 0s - loss: 0.8091 - acc: 0.6381\n",
      "Epoch 31/150\n",
      " - 0s - loss: 0.8003 - acc: 0.6381\n",
      "Epoch 32/150\n",
      " - 0s - loss: 0.7923 - acc: 0.6381\n",
      "Epoch 33/150\n",
      " - 0s - loss: 0.7839 - acc: 0.6381\n",
      "Epoch 34/150\n",
      " - 0s - loss: 0.7759 - acc: 0.6381\n",
      "Epoch 35/150\n",
      " - 0s - loss: 0.7677 - acc: 0.6381\n",
      "Epoch 36/150\n",
      " - 0s - loss: 0.7600 - acc: 0.6381\n",
      "Epoch 37/150\n",
      " - 0s - loss: 0.7524 - acc: 0.6381\n",
      "Epoch 38/150\n",
      " - 0s - loss: 0.7451 - acc: 0.6381\n",
      "Epoch 39/150\n",
      " - 0s - loss: 0.7378 - acc: 0.6381\n",
      "Epoch 40/150\n",
      " - 0s - loss: 0.7302 - acc: 0.6381\n",
      "Epoch 41/150\n",
      " - 0s - loss: 0.7232 - acc: 0.6476\n",
      "Epoch 42/150\n",
      " - 0s - loss: 0.7162 - acc: 0.6476\n",
      "Epoch 43/150\n",
      " - 0s - loss: 0.7091 - acc: 0.6476\n",
      "Epoch 44/150\n",
      " - 0s - loss: 0.7021 - acc: 0.6476\n",
      "Epoch 45/150\n",
      " - 0s - loss: 0.6958 - acc: 0.6476\n",
      "Epoch 46/150\n",
      " - 0s - loss: 0.6895 - acc: 0.6476\n",
      "Epoch 47/150\n",
      " - 0s - loss: 0.6829 - acc: 0.6476\n",
      "Epoch 48/150\n",
      " - 0s - loss: 0.6767 - acc: 0.6476\n",
      "Epoch 49/150\n",
      " - 0s - loss: 0.6706 - acc: 0.6476\n",
      "Epoch 50/150\n",
      " - 0s - loss: 0.6648 - acc: 0.6476\n",
      "Epoch 51/150\n",
      " - 0s - loss: 0.6587 - acc: 0.6476\n",
      "Epoch 52/150\n",
      " - 0s - loss: 0.6530 - acc: 0.6476\n",
      "Epoch 53/150\n",
      " - 0s - loss: 0.6475 - acc: 0.6476\n",
      "Epoch 54/150\n",
      " - 0s - loss: 0.6417 - acc: 0.6476\n",
      "Epoch 55/150\n",
      " - 0s - loss: 0.6363 - acc: 0.6476\n",
      "Epoch 56/150\n",
      " - 0s - loss: 0.6310 - acc: 0.6476\n",
      "Epoch 57/150\n",
      " - 0s - loss: 0.6258 - acc: 0.6476\n",
      "Epoch 58/150\n",
      " - 0s - loss: 0.6205 - acc: 0.6476\n",
      "Epoch 59/150\n",
      " - 0s - loss: 0.6155 - acc: 0.6476\n",
      "Epoch 60/150\n",
      " - 0s - loss: 0.6106 - acc: 0.6476\n",
      "Epoch 61/150\n",
      " - 0s - loss: 0.6059 - acc: 0.6476\n",
      "Epoch 62/150\n",
      " - 0s - loss: 0.6007 - acc: 0.6476\n",
      "Epoch 63/150\n",
      " - 0s - loss: 0.5961 - acc: 0.6476\n",
      "Epoch 64/150\n",
      " - 0s - loss: 0.5915 - acc: 0.6476\n",
      "Epoch 65/150\n",
      " - 0s - loss: 0.5869 - acc: 0.6476\n",
      "Epoch 66/150\n",
      " - 0s - loss: 0.5823 - acc: 0.6476\n",
      "Epoch 67/150\n",
      " - 0s - loss: 0.5778 - acc: 0.6476\n",
      "Epoch 68/150\n",
      " - 0s - loss: 0.5739 - acc: 0.6476\n",
      "Epoch 69/150\n",
      " - 0s - loss: 0.5696 - acc: 0.6476\n",
      "Epoch 70/150\n",
      " - 0s - loss: 0.5657 - acc: 0.6476\n",
      "Epoch 71/150\n",
      " - 0s - loss: 0.5623 - acc: 0.6476\n",
      "Epoch 72/150\n",
      " - 0s - loss: 0.5584 - acc: 0.6476\n",
      "Epoch 73/150\n",
      " - 0s - loss: 0.5548 - acc: 0.6476\n",
      "Epoch 74/150\n",
      " - 0s - loss: 0.5513 - acc: 0.6476\n",
      "Epoch 75/150\n",
      " - 0s - loss: 0.5480 - acc: 0.6476\n",
      "Epoch 76/150\n",
      " - 0s - loss: 0.5448 - acc: 0.6476\n",
      "Epoch 77/150\n",
      " - 0s - loss: 0.5414 - acc: 0.6571\n",
      "Epoch 78/150\n",
      " - 0s - loss: 0.5385 - acc: 0.6571\n",
      "Epoch 79/150\n",
      " - 0s - loss: 0.5353 - acc: 0.6571\n",
      "Epoch 80/150\n",
      " - 0s - loss: 0.5326 - acc: 0.6571\n",
      "Epoch 81/150\n",
      " - 0s - loss: 0.5297 - acc: 0.6571\n",
      "Epoch 82/150\n",
      " - 0s - loss: 0.5269 - acc: 0.6571\n",
      "Epoch 83/150\n",
      " - 0s - loss: 0.5245 - acc: 0.6667\n",
      "Epoch 84/150\n",
      " - 0s - loss: 0.5219 - acc: 0.6667\n",
      "Epoch 85/150\n",
      " - 0s - loss: 0.5193 - acc: 0.6667\n",
      "Epoch 86/150\n",
      " - 0s - loss: 0.5169 - acc: 0.6667\n",
      "Epoch 87/150\n",
      " - 0s - loss: 0.5143 - acc: 0.6667\n",
      "Epoch 88/150\n",
      " - 0s - loss: 0.5121 - acc: 0.6667\n",
      "Epoch 89/150\n",
      " - 0s - loss: 0.5097 - acc: 0.6667\n",
      "Epoch 90/150\n",
      " - 0s - loss: 0.5077 - acc: 0.6667\n",
      "Epoch 91/150\n",
      " - 0s - loss: 0.5053 - acc: 0.6667\n",
      "Epoch 92/150\n",
      " - 0s - loss: 0.5033 - acc: 0.6857\n",
      "Epoch 93/150\n",
      " - 0s - loss: 0.5009 - acc: 0.6952\n",
      "Epoch 94/150\n",
      " - 0s - loss: 0.4989 - acc: 0.6952\n",
      "Epoch 95/150\n",
      " - 0s - loss: 0.4968 - acc: 0.6952\n",
      "Epoch 96/150\n",
      " - 0s - loss: 0.4948 - acc: 0.6952\n",
      "Epoch 97/150\n",
      " - 0s - loss: 0.4929 - acc: 0.7048\n",
      "Epoch 98/150\n",
      " - 0s - loss: 0.4909 - acc: 0.6952\n",
      "Epoch 99/150\n",
      " - 0s - loss: 0.4889 - acc: 0.7048\n",
      "Epoch 100/150\n",
      " - 0s - loss: 0.4869 - acc: 0.7143\n",
      "Epoch 101/150\n",
      " - 0s - loss: 0.4851 - acc: 0.7143\n",
      "Epoch 102/150\n",
      " - 0s - loss: 0.4836 - acc: 0.7143\n",
      "Epoch 103/150\n",
      " - 0s - loss: 0.4816 - acc: 0.7333\n",
      "Epoch 104/150\n",
      " - 0s - loss: 0.4800 - acc: 0.7429\n",
      "Epoch 105/150\n",
      " - 0s - loss: 0.4780 - acc: 0.7524\n",
      "Epoch 106/150\n",
      " - 0s - loss: 0.4760 - acc: 0.7429\n",
      "Epoch 107/150\n",
      " - 0s - loss: 0.4745 - acc: 0.7333\n",
      "Epoch 108/150\n",
      " - 0s - loss: 0.4726 - acc: 0.7333\n",
      "Epoch 109/150\n",
      " - 0s - loss: 0.4708 - acc: 0.7333\n",
      "Epoch 110/150\n",
      " - 0s - loss: 0.4690 - acc: 0.7238\n",
      "Epoch 111/150\n",
      " - 0s - loss: 0.4674 - acc: 0.7143\n",
      "Epoch 112/150\n",
      " - 0s - loss: 0.4656 - acc: 0.7143\n",
      "Epoch 113/150\n",
      " - 0s - loss: 0.4640 - acc: 0.7143\n",
      "Epoch 114/150\n",
      " - 0s - loss: 0.4623 - acc: 0.7143\n",
      "Epoch 115/150\n",
      " - 0s - loss: 0.4607 - acc: 0.7143\n",
      "Epoch 116/150\n",
      " - 0s - loss: 0.4591 - acc: 0.7143\n",
      "Epoch 117/150\n",
      " - 0s - loss: 0.4576 - acc: 0.7143\n",
      "Epoch 118/150\n",
      " - 0s - loss: 0.4559 - acc: 0.7333\n",
      "Epoch 119/150\n",
      " - 0s - loss: 0.4537 - acc: 0.7429\n",
      "Epoch 120/150\n",
      " - 0s - loss: 0.4521 - acc: 0.7524\n",
      "Epoch 121/150\n",
      " - 0s - loss: 0.4505 - acc: 0.7905\n",
      "Epoch 122/150\n",
      " - 0s - loss: 0.4488 - acc: 0.7905\n",
      "Epoch 123/150\n",
      " - 0s - loss: 0.4473 - acc: 0.8000\n",
      "Epoch 124/150\n",
      " - 0s - loss: 0.4455 - acc: 0.8286\n",
      "Epoch 125/150\n",
      " - 0s - loss: 0.4438 - acc: 0.8286\n",
      "Epoch 126/150\n",
      " - 0s - loss: 0.4422 - acc: 0.8000\n",
      "Epoch 127/150\n",
      " - 0s - loss: 0.4405 - acc: 0.7905\n",
      "Epoch 128/150\n",
      " - 0s - loss: 0.4389 - acc: 0.7905\n",
      "Epoch 129/150\n",
      " - 0s - loss: 0.4374 - acc: 0.7905\n",
      "Epoch 130/150\n",
      " - 0s - loss: 0.4358 - acc: 0.7905\n",
      "Epoch 131/150\n",
      " - 0s - loss: 0.4338 - acc: 0.8000\n",
      "Epoch 132/150\n",
      " - 0s - loss: 0.4328 - acc: 0.8286\n",
      "Epoch 133/150\n",
      " - 0s - loss: 0.4308 - acc: 0.8476\n",
      "Epoch 134/150\n",
      " - 0s - loss: 0.4287 - acc: 0.8476\n",
      "Epoch 135/150\n",
      " - 0s - loss: 0.4271 - acc: 0.8476\n",
      "Epoch 136/150\n",
      " - 0s - loss: 0.4253 - acc: 0.8381\n",
      "Epoch 137/150\n",
      " - 0s - loss: 0.4239 - acc: 0.8381\n",
      "Epoch 138/150\n",
      " - 0s - loss: 0.4220 - acc: 0.8381\n",
      "Epoch 139/150\n",
      " - 0s - loss: 0.4203 - acc: 0.8476\n",
      "Epoch 140/150\n",
      " - 0s - loss: 0.4185 - acc: 0.8571\n",
      "Epoch 141/150\n",
      " - 0s - loss: 0.4167 - acc: 0.8667\n",
      "Epoch 142/150\n",
      " - 0s - loss: 0.4150 - acc: 0.8762\n",
      "Epoch 143/150\n",
      " - 0s - loss: 0.4131 - acc: 0.8762\n",
      "Epoch 144/150\n",
      " - 0s - loss: 0.4114 - acc: 0.8476\n",
      "Epoch 145/150\n",
      " - 0s - loss: 0.4104 - acc: 0.8381\n",
      "Epoch 146/150\n",
      " - 0s - loss: 0.4086 - acc: 0.8381\n",
      "Epoch 147/150\n",
      " - 0s - loss: 0.4067 - acc: 0.8476\n",
      "Epoch 148/150\n",
      " - 0s - loss: 0.4045 - acc: 0.8571\n",
      "Epoch 149/150\n",
      " - 0s - loss: 0.4029 - acc: 0.8952\n",
      "Epoch 150/150\n",
      " - 0s - loss: 0.4010 - acc: 0.9048\n"
     ]
    },
    {
     "data": {
      "text/plain": [
       "<keras.callbacks.History at 0x1a3c80a350>"
      ]
     },
     "execution_count": 42,
     "metadata": {},
     "output_type": "execute_result"
    }
   ],
   "source": [
    "model.fit(scaled_X_train, y_train, epochs=150, verbose=2)"
   ]
  },
  {
   "cell_type": "code",
   "execution_count": 48,
   "metadata": {},
   "outputs": [],
   "source": [
    "predictions = model.predict_classes(scaled_X_test)"
   ]
  },
  {
   "cell_type": "code",
   "execution_count": 49,
   "metadata": {},
   "outputs": [
    {
     "data": {
      "text/plain": [
       "array([2, 0, 2, 1, 2, 0, 1, 2, 2, 1, 2, 0, 0, 0, 0, 1, 2, 1, 1, 2, 0, 2,\n",
       "       0, 2, 2, 2, 2, 2, 0, 0, 0, 0, 1, 0, 0, 2, 1, 0, 0, 0, 2, 1, 1, 0,\n",
       "       0])"
      ]
     },
     "execution_count": 49,
     "metadata": {},
     "output_type": "execute_result"
    }
   ],
   "source": [
    "predictions"
   ]
  },
  {
   "cell_type": "code",
   "execution_count": 50,
   "metadata": {},
   "outputs": [
    {
     "data": {
      "text/plain": [
       "array([1, 0, 2, 1, 1, 0, 1, 2, 1, 1, 2, 0, 0, 0, 0, 1, 2, 1, 1, 2, 0, 2,\n",
       "       0, 2, 2, 2, 2, 2, 0, 0, 0, 0, 1, 0, 0, 2, 1, 0, 0, 0, 2, 1, 1, 0,\n",
       "       0])"
      ]
     },
     "execution_count": 50,
     "metadata": {},
     "output_type": "execute_result"
    }
   ],
   "source": [
    "y_test.argmax(axis=1)"
   ]
  },
  {
   "cell_type": "code",
   "execution_count": 53,
   "metadata": {},
   "outputs": [],
   "source": [
    "y_test_arg = y_test.argmax(axis=1)"
   ]
  },
  {
   "cell_type": "code",
   "execution_count": 52,
   "metadata": {},
   "outputs": [],
   "source": [
    "from sklearn.metrics import confusion_matrix, classification_report, accuracy_score"
   ]
  },
  {
   "cell_type": "code",
   "execution_count": 54,
   "metadata": {},
   "outputs": [
    {
     "name": "stdout",
     "output_type": "stream",
     "text": [
      "[[19  0  0]\n",
      " [ 0 10  3]\n",
      " [ 0  0 13]]\n"
     ]
    }
   ],
   "source": [
    "print(confusion_matrix(y_test_arg, predictions))"
   ]
  },
  {
   "cell_type": "code",
   "execution_count": 55,
   "metadata": {},
   "outputs": [
    {
     "name": "stdout",
     "output_type": "stream",
     "text": [
      "              precision    recall  f1-score   support\n",
      "\n",
      "           0       1.00      1.00      1.00        19\n",
      "           1       1.00      0.77      0.87        13\n",
      "           2       0.81      1.00      0.90        13\n",
      "\n",
      "   micro avg       0.93      0.93      0.93        45\n",
      "   macro avg       0.94      0.92      0.92        45\n",
      "weighted avg       0.95      0.93      0.93        45\n",
      "\n"
     ]
    }
   ],
   "source": [
    "print(classification_report(y_test_arg, predictions))"
   ]
  },
  {
   "cell_type": "code",
   "execution_count": 56,
   "metadata": {},
   "outputs": [
    {
     "name": "stdout",
     "output_type": "stream",
     "text": [
      "0.9333333333333333\n"
     ]
    }
   ],
   "source": [
    "print(accuracy_score(y_test_arg, predictions))"
   ]
  },
  {
   "cell_type": "code",
   "execution_count": 57,
   "metadata": {},
   "outputs": [],
   "source": [
    "model.save('myfirstmodel.h5')"
   ]
  },
  {
   "cell_type": "code",
   "execution_count": 58,
   "metadata": {},
   "outputs": [],
   "source": [
    "from keras.models import load_model"
   ]
  },
  {
   "cell_type": "code",
   "execution_count": 59,
   "metadata": {},
   "outputs": [],
   "source": [
    "new_model = load_model('myfirstmodel.h5')"
   ]
  },
  {
   "cell_type": "code",
   "execution_count": 60,
   "metadata": {},
   "outputs": [
    {
     "data": {
      "text/plain": [
       "array([2, 0, 2, 1, 2, 0, 1, 2, 2, 1, 2, 0, 0, 0, 0, 1, 2, 1, 1, 2, 0, 2,\n",
       "       0, 2, 2, 2, 2, 2, 0, 0, 0, 0, 1, 0, 0, 2, 1, 0, 0, 0, 2, 1, 1, 0,\n",
       "       0])"
      ]
     },
     "execution_count": 60,
     "metadata": {},
     "output_type": "execute_result"
    }
   ],
   "source": [
    "new_model.predict_classes(scaled_X_test)"
   ]
  },
  {
   "cell_type": "code",
   "execution_count": null,
   "metadata": {},
   "outputs": [],
   "source": []
  }
 ],
 "metadata": {
  "kernelspec": {
   "display_name": "Python 3",
   "language": "python",
   "name": "python3"
  },
  "language_info": {
   "codemirror_mode": {
    "name": "ipython",
    "version": 3
   },
   "file_extension": ".py",
   "mimetype": "text/x-python",
   "name": "python",
   "nbconvert_exporter": "python",
   "pygments_lexer": "ipython3",
   "version": "3.7.6"
  }
 },
 "nbformat": 4,
 "nbformat_minor": 4
}
