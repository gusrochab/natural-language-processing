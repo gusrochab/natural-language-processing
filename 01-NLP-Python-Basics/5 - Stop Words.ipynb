{
 "cells": [
  {
   "cell_type": "code",
   "execution_count": 2,
   "metadata": {},
   "outputs": [],
   "source": [
    "import spacy\n"
   ]
  },
  {
   "cell_type": "code",
   "execution_count": 3,
   "metadata": {},
   "outputs": [],
   "source": [
    "nlp = spacy.load('en_core_web_sm')"
   ]
  },
  {
   "cell_type": "code",
   "execution_count": 5,
   "metadata": {},
   "outputs": [
    {
     "name": "stdout",
     "output_type": "stream",
     "text": [
      "{'via', 'not', 'of', 'anyhow', 'every', 'least', 'until', 'why', 'would', 'such', 'many', 'wherein', 'in', 'because', 'most', 'onto', 'still', 'seeming', 'an', 'at', 'however', 'thru', 'becoming', 'except', 'see', 'hence', 'therein', 'elsewhere', 'fifty', 'when', 'latter', 'nevertheless', 'after', 'empty', 'third', 'three', 'each', 'becomes', 'as', 'ourselves', 'so', 'us', 'whose', 'could', 'say', 'perhaps', 'here', 'top', 'who', 'any', 'where', 'first', 'we', 'nobody', 'seemed', 'sometime', 'yourself', 'enough', 'else', 'something', 'during', 'back', 'eight', 'more', 'now', 'one', 'but', 'had', 'among', 'it', 'just', 'these', 'was', 'wherever', 'move', 'somewhere', 'is', 'go', 'their', 'those', 'thus', 'or', 'seems', 'your', 'fifteen', 'everything', 'between', 'beside', 'mine', 'neither', 'ten', 'then', 'be', 'latterly', 'whom', 'well', 'which', 'been', 'down', 'for', 'using', 'very', 'might', 'part', 'she', 'can', 'before', 'almost', 'are', 'get', 'hereby', 'often', 'due', 'rather', 'the', 'sometimes', 'amongst', 'if', 'throughout', 'them', 'afterwards', 'same', 'two', 'should', 'while', 'nine', 'nothing', 'am', 'further', 'beyond', 'became', 'have', 'up', 'made', 'besides', 'from', 'through', 'do', 'hereafter', 'eleven', 're', 'all', 'has', 'my', 'former', 'nor', 'without', 'six', 'yours', 'whole', 'either', 'and', 'thereupon', 'everyone', 'herein', 'this', 'towards', 'give', 'somehow', 'quite', 'together', 'what', 'myself', 'whether', 'next', 'some', 'front', 'bottom', 'does', 'ours', 'under', 'also', 'whereafter', 'out', 'less', 'again', 'beforehand', 'over', 'you', 'hereupon', 'whence', 'above', 'whereas', 'our', 'become', 'done', 'last', 'must', 'per', 'side', 'whereupon', 'noone', 'whither', 'keep', 'though', 'about', 'thereafter', 'toward', 'hundred', 'its', 'ca', 'across', 'how', 'anywhere', 'other', 'with', 'hers', 'moreover', 'otherwise', 'that', 'against', 'call', 'too', 'a', 'upon', 'herself', 'on', 'really', 'will', 'yet', 'behind', 'itself', 'there', 'thereby', 'own', 'along', 'mostly', 'much', 'thence', 'yourselves', 'both', 'serious', 'nowhere', 'whenever', 'within', 'they', 'below', 'anyone', 'into', 'meanwhile', 'no', 'he', 'show', 'since', 'to', 'make', 'anything', 'themselves', 'several', 'namely', 'twelve', 'twenty', 'few', 'everywhere', 'than', 'around', 'seem', 'amount', 'anyway', 'five', 'his', 'may', 'him', 'therefore', 'used', 'four', 'alone', 'ever', 'once', 'her', 'cannot', 'being', 'whereby', 'were', 'none', 'formerly', 'off', 'full', 'unless', 'forty', 'doing', 'put', 'by', 'me', 'whoever', 'even', 'indeed', 'various', 'only', 'sixty', 'never', 'always', 'another', 'name', 'already', 'i', 'others', 'please', 'regarding', 'whatever', 'did', 'himself', 'someone', 'although', 'take'}\n"
     ]
    }
   ],
   "source": [
    "print(nlp.Defaults.stop_words)"
   ]
  },
  {
   "cell_type": "code",
   "execution_count": 7,
   "metadata": {},
   "outputs": [
    {
     "data": {
      "text/plain": [
       "True"
      ]
     },
     "execution_count": 7,
     "metadata": {},
     "output_type": "execute_result"
    }
   ],
   "source": [
    "nlp.vocab['is'].is_stop"
   ]
  },
  {
   "cell_type": "code",
   "execution_count": 8,
   "metadata": {},
   "outputs": [
    {
     "data": {
      "text/plain": [
       "False"
      ]
     },
     "execution_count": 8,
     "metadata": {},
     "output_type": "execute_result"
    }
   ],
   "source": [
    "nlp.vocab['mystery'].is_stop"
   ]
  },
  {
   "cell_type": "code",
   "execution_count": 10,
   "metadata": {},
   "outputs": [],
   "source": [
    "nlp.Defaults.stop_words.add('btw')"
   ]
  },
  {
   "cell_type": "code",
   "execution_count": 11,
   "metadata": {},
   "outputs": [],
   "source": [
    "nlp.vocab['btw'].is_stop = True"
   ]
  },
  {
   "cell_type": "code",
   "execution_count": 12,
   "metadata": {},
   "outputs": [
    {
     "data": {
      "text/plain": [
       "True"
      ]
     },
     "execution_count": 12,
     "metadata": {},
     "output_type": "execute_result"
    }
   ],
   "source": [
    "nlp.vocab['btw'].is_stop"
   ]
  },
  {
   "cell_type": "code",
   "execution_count": 13,
   "metadata": {},
   "outputs": [],
   "source": [
    "nlp.Defaults.stop_words.remove('beyond')"
   ]
  },
  {
   "cell_type": "code",
   "execution_count": 14,
   "metadata": {},
   "outputs": [],
   "source": [
    "nlp.vocab['beyond'].is_stop = False"
   ]
  },
  {
   "cell_type": "code",
   "execution_count": 15,
   "metadata": {},
   "outputs": [
    {
     "data": {
      "text/plain": [
       "False"
      ]
     },
     "execution_count": 15,
     "metadata": {},
     "output_type": "execute_result"
    }
   ],
   "source": [
    "nlp.vocab['beyond'].is_stop"
   ]
  },
  {
   "cell_type": "code",
   "execution_count": null,
   "metadata": {},
   "outputs": [],
   "source": []
  }
 ],
 "metadata": {
  "kernelspec": {
   "display_name": "Python 3",
   "language": "python",
   "name": "python3"
  },
  "language_info": {
   "codemirror_mode": {
    "name": "ipython",
    "version": 3
   },
   "file_extension": ".py",
   "mimetype": "text/x-python",
   "name": "python",
   "nbconvert_exporter": "python",
   "pygments_lexer": "ipython3",
   "version": "3.7.6"
  }
 },
 "nbformat": 4,
 "nbformat_minor": 4
}
